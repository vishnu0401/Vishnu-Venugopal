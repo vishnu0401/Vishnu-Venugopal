{
  "nbformat": 4,
  "nbformat_minor": 0,
  "metadata": {
    "colab": {
      "name": "CIFAR10 .ipynb",
      "provenance": [],
      "collapsed_sections": [],
      "authorship_tag": "ABX9TyO3CG5v7TqkiIom1x9g/pBS",
      "include_colab_link": true
    },
    "kernelspec": {
      "name": "python3",
      "display_name": "Python 3"
    }
  },
  "cells": [
    {
      "cell_type": "markdown",
      "metadata": {
        "id": "view-in-github",
        "colab_type": "text"
      },
      "source": [
        "<a href=\"https://colab.research.google.com/github/vishnu0401/Vishnu-Venugopal/blob/master/CIFAR10_.ipynb\" target=\"_parent\"><img src=\"https://colab.research.google.com/assets/colab-badge.svg\" alt=\"Open In Colab\"/></a>"
      ]
    },
    {
      "cell_type": "code",
      "metadata": {
        "id": "7HrZxRWIb-pc",
        "colab_type": "code",
        "outputId": "bbcf8f6a-7672-4b6a-8564-9a16c3d02b72",
        "colab": {
          "base_uri": "https://localhost:8080/",
          "height": 122
        }
      },
      "source": [
        "from google.colab import drive\n",
        "drive.mount('/drive')"
      ],
      "execution_count": 0,
      "outputs": [
        {
          "output_type": "stream",
          "text": [
            "Go to this URL in a browser: https://accounts.google.com/o/oauth2/auth?client_id=947318989803-6bn6qk8qdgf4n4g3pfee6491hc0brc4i.apps.googleusercontent.com&redirect_uri=urn%3aietf%3awg%3aoauth%3a2.0%3aoob&response_type=code&scope=email%20https%3a%2f%2fwww.googleapis.com%2fauth%2fdocs.test%20https%3a%2f%2fwww.googleapis.com%2fauth%2fdrive%20https%3a%2f%2fwww.googleapis.com%2fauth%2fdrive.photos.readonly%20https%3a%2f%2fwww.googleapis.com%2fauth%2fpeopleapi.readonly\n",
            "\n",
            "Enter your authorization code:\n",
            "··········\n",
            "Mounted at /drive\n"
          ],
          "name": "stdout"
        }
      ]
    },
    {
      "cell_type": "code",
      "metadata": {
        "id": "U24FkyDePPag",
        "colab_type": "code",
        "outputId": "4c9dc2b2-43b7-4102-a480-d1b8de9885f1",
        "colab": {
          "base_uri": "https://localhost:8080/",
          "height": 80
        }
      },
      "source": [
        "import keras"
      ],
      "execution_count": 0,
      "outputs": [
        {
          "output_type": "stream",
          "text": [
            "Using TensorFlow backend.\n"
          ],
          "name": "stderr"
        },
        {
          "output_type": "display_data",
          "data": {
            "text/html": [
              "<p style=\"color: red;\">\n",
              "The default version of TensorFlow in Colab will soon switch to TensorFlow 2.x.<br>\n",
              "We recommend you <a href=\"https://www.tensorflow.org/guide/migrate\" target=\"_blank\">upgrade</a> now \n",
              "or ensure your notebook will continue to use TensorFlow 1.x via the <code>%tensorflow_version 1.x</code> magic:\n",
              "<a href=\"https://colab.research.google.com/notebooks/tensorflow_version.ipynb\" target=\"_blank\">more info</a>.</p>\n"
            ],
            "text/plain": [
              "<IPython.core.display.HTML object>"
            ]
          },
          "metadata": {
            "tags": []
          }
        }
      ]
    },
    {
      "cell_type": "code",
      "metadata": {
        "id": "DhyplpVDa1dF",
        "colab_type": "code",
        "colab": {}
      },
      "source": [
        "import pandas as pd\n",
        "import numpy as nm\n",
        "import seaborn as sns\n",
        "import matplotlib.pyplot as plt"
      ],
      "execution_count": 0,
      "outputs": []
    },
    {
      "cell_type": "code",
      "metadata": {
        "id": "h8PS8kwhcCVp",
        "colab_type": "code",
        "colab": {}
      },
      "source": [
        "import os\n",
        "os.chdir(\"/drive/My Drive\")"
      ],
      "execution_count": 0,
      "outputs": []
    },
    {
      "cell_type": "code",
      "metadata": {
        "id": "PLusU31EcYbn",
        "colab_type": "code",
        "colab": {}
      },
      "source": [
        "from keras.datasets import cifar10\n",
        "from keras.models import Sequential\n",
        "from keras.layers import Dense,Dropout,Flatten\n",
        "from keras.layers import Conv2D,MaxPooling2D,MaxPool2D"
      ],
      "execution_count": 0,
      "outputs": []
    },
    {
      "cell_type": "code",
      "metadata": {
        "id": "_Dcjsiglcc9O",
        "colab_type": "code",
        "outputId": "13a99091-f098-464a-9d06-c66dea49d4a1",
        "colab": {
          "base_uri": "https://localhost:8080/",
          "height": 51
        }
      },
      "source": [
        "(x_train,y_train),(x_test,y_test)=cifar10.load_data()"
      ],
      "execution_count": 0,
      "outputs": [
        {
          "output_type": "stream",
          "text": [
            "Downloading data from https://www.cs.toronto.edu/~kriz/cifar-10-python.tar.gz\n",
            "170500096/170498071 [==============================] - 2s 0us/step\n"
          ],
          "name": "stdout"
        }
      ]
    },
    {
      "cell_type": "code",
      "metadata": {
        "id": "WAyvhmRyc2Z1",
        "colab_type": "code",
        "outputId": "e775a0d0-e5ac-45a6-c4d3-3608d5423292",
        "colab": {
          "base_uri": "https://localhost:8080/",
          "height": 34
        }
      },
      "source": [
        "x_train.shape"
      ],
      "execution_count": 0,
      "outputs": [
        {
          "output_type": "execute_result",
          "data": {
            "text/plain": [
              "(50000, 32, 32, 3)"
            ]
          },
          "metadata": {
            "tags": []
          },
          "execution_count": 7
        }
      ]
    },
    {
      "cell_type": "code",
      "metadata": {
        "id": "DsuLX3Gkd5uy",
        "colab_type": "code",
        "outputId": "4339c6a0-a07a-42ee-b3ae-3b903cf3f5e8",
        "colab": {
          "base_uri": "https://localhost:8080/",
          "height": 34
        }
      },
      "source": [
        "x_test.shape"
      ],
      "execution_count": 0,
      "outputs": [
        {
          "output_type": "execute_result",
          "data": {
            "text/plain": [
              "(10000, 32, 32, 3)"
            ]
          },
          "metadata": {
            "tags": []
          },
          "execution_count": 8
        }
      ]
    },
    {
      "cell_type": "code",
      "metadata": {
        "id": "0lyOsMbbd8nW",
        "colab_type": "code",
        "outputId": "142bf372-d0a3-4df6-c98d-42935acd1081",
        "colab": {
          "base_uri": "https://localhost:8080/",
          "height": 34
        }
      },
      "source": [
        "y_train.shape"
      ],
      "execution_count": 0,
      "outputs": [
        {
          "output_type": "execute_result",
          "data": {
            "text/plain": [
              "(50000, 1)"
            ]
          },
          "metadata": {
            "tags": []
          },
          "execution_count": 9
        }
      ]
    },
    {
      "cell_type": "code",
      "metadata": {
        "id": "HZcvtsAAd_w_",
        "colab_type": "code",
        "outputId": "579b2921-3271-4923-a04e-037529d22975",
        "colab": {
          "base_uri": "https://localhost:8080/",
          "height": 34
        }
      },
      "source": [
        "y_test.shape"
      ],
      "execution_count": 0,
      "outputs": [
        {
          "output_type": "execute_result",
          "data": {
            "text/plain": [
              "(10000, 1)"
            ]
          },
          "metadata": {
            "tags": []
          },
          "execution_count": 10
        }
      ]
    },
    {
      "cell_type": "code",
      "metadata": {
        "id": "3j2i7jtweBk1",
        "colab_type": "code",
        "outputId": "8b5802a9-10e4-4a67-bf49-40fd687120c3",
        "colab": {
          "base_uri": "https://localhost:8080/",
          "height": 34
        }
      },
      "source": [
        "y_train[1]"
      ],
      "execution_count": 0,
      "outputs": [
        {
          "output_type": "execute_result",
          "data": {
            "text/plain": [
              "array([9], dtype=uint8)"
            ]
          },
          "metadata": {
            "tags": []
          },
          "execution_count": 11
        }
      ]
    },
    {
      "cell_type": "code",
      "metadata": {
        "id": "f7ujlOv5eHcf",
        "colab_type": "code",
        "colab": {}
      },
      "source": [
        "x_train=x_train.reshape(x_train.shape[0],32,32,3)\n",
        "x_test=x_test.reshape(x_test.shape[0],32,32,3)"
      ],
      "execution_count": 0,
      "outputs": []
    },
    {
      "cell_type": "code",
      "metadata": {
        "id": "XU5Ju45beJlm",
        "colab_type": "code",
        "colab": {}
      },
      "source": [
        "x_train=x_train.astype(\"float32\")\n",
        "x_test=x_test.astype(\"float32\")\n",
        "\n",
        "x_train/=255\n",
        "x_test/=255"
      ],
      "execution_count": 0,
      "outputs": []
    },
    {
      "cell_type": "code",
      "metadata": {
        "id": "EPC6wWYBexZi",
        "colab_type": "code",
        "outputId": "6762cb62-843f-4eb5-aa33-f28b63256899",
        "colab": {
          "base_uri": "https://localhost:8080/",
          "height": 283
        }
      },
      "source": [
        "plt.imshow(x_train[5])"
      ],
      "execution_count": 0,
      "outputs": [
        {
          "output_type": "execute_result",
          "data": {
            "text/plain": [
              "<matplotlib.image.AxesImage at 0x7f4dc4a2c6a0>"
            ]
          },
          "metadata": {
            "tags": []
          },
          "execution_count": 14
        },
        {
          "output_type": "display_data",
          "data": {
            "image/png": "[encoded data removed]",
            "text/plain": [
              "<Figure size 432x288 with 1 Axes>"
            ]
          },
          "metadata": {
            "tags": []
          }
        }
      ]
    },
    {
      "cell_type": "code",
      "metadata": {
        "id": "pc3jdpeSfvO-",
        "colab_type": "code",
        "outputId": "b9941955-f585-470d-dfb9-6b34c9c1e821",
        "colab": {
          "base_uri": "https://localhost:8080/",
          "height": 325
        }
      },
      "source": [
        "plt.figure(figsize=(10,6))\n",
        "\n",
        "for i in range(1,11):\n",
        "  plt.subplot(2,5,i)\n",
        "  plt.imshow(x_train[i].reshape(32,32,3))"
      ],
      "execution_count": 0,
      "outputs": [
        {
          "output_type": "display_data",
          "data": {
            "image/png": "[encoded data removed]",
            "text/plain": [
              "<Figure size 720x432 with 10 Axes>"
            ]
          },
          "metadata": {
            "tags": []
          }
        }
      ]
    },
    {
      "cell_type": "code",
      "metadata": {
        "id": "70jzfPKxgPVF",
        "colab_type": "code",
        "colab": {}
      },
      "source": [
        "y_train=keras.utils.to_categorical(y_train,10)\n",
        "y_test=keras.utils.to_categorical(y_test,10)\n"
      ],
      "execution_count": 0,
      "outputs": []
    },
    {
      "cell_type": "code",
      "metadata": {
        "id": "aHJvnHIlmF9i",
        "colab_type": "code",
        "colab": {}
      },
      "source": [
        "from keras.layers import Convolution2D"
      ],
      "execution_count": 0,
      "outputs": []
    },
    {
      "cell_type": "code",
      "metadata": {
        "id": "Vu-vFd12hyaI",
        "colab_type": "code",
        "colab": {}
      },
      "source": [
        "#making model\n",
        "def make_model():\n",
        "  model=Sequential()\n",
        "\n",
        "  model.add(Conv2D(16,(3,3),padding=\"same\",activation='relu',input_shape=(32,32,3)))\n",
        "\n",
        "  model.add(Conv2D(32,(3,3),padding=\"valid\",activation='relu'))\n",
        "  model.add(MaxPool2D(pool_size=(2,2),padding=\"same\"))\n",
        "  model.add(Dropout(0.20))\n",
        "  \n",
        "  model.add(Conv2D(16,(3,3),padding=\"valid\",activation='relu',input_shape=(32,32,3)))\n",
        "  model.add(Dropout(0.20))\n",
        "\n",
        "  model.add(Flatten())\n",
        "  model.add(Dense(1024,activation='relu'))\n",
        "  model.add(Dropout(0.20))\n",
        "  \n",
        "  model.add(Dense(10,activation='softmax'))\n",
        "\n",
        "  return model\n",
        "  \n",
        "  "
      ],
      "execution_count": 0,
      "outputs": []
    },
    {
      "cell_type": "code",
      "metadata": {
        "id": "lilR7i-NuaqL",
        "colab_type": "code",
        "outputId": "39bb97fb-8a64-4792-a4dc-36e13b25eb2b",
        "colab": {
          "base_uri": "https://localhost:8080/",
          "height": 326
        }
      },
      "source": [
        "#compling model\n",
        "model=make_model()\n",
        "model.compile(loss='categorical_crossentropy',optimizer='adam',metrics=['accuracy'])"
      ],
      "execution_count": 0,
      "outputs": [
        {
          "output_type": "stream",
          "text": [
            "WARNING:tensorflow:From /usr/local/lib/python3.6/dist-packages/keras/backend/tensorflow_backend.py:66: The name tf.get_default_graph is deprecated. Please use tf.compat.v1.get_default_graph instead.\n",
            "\n",
            "WARNING:tensorflow:From /usr/local/lib/python3.6/dist-packages/keras/backend/tensorflow_backend.py:541: The name tf.placeholder is deprecated. Please use tf.compat.v1.placeholder instead.\n",
            "\n",
            "WARNING:tensorflow:From /usr/local/lib/python3.6/dist-packages/keras/backend/tensorflow_backend.py:4432: The name tf.random_uniform is deprecated. Please use tf.random.uniform instead.\n",
            "\n",
            "WARNING:tensorflow:From /usr/local/lib/python3.6/dist-packages/keras/backend/tensorflow_backend.py:4267: The name tf.nn.max_pool is deprecated. Please use tf.nn.max_pool2d instead.\n",
            "\n",
            "WARNING:tensorflow:From /usr/local/lib/python3.6/dist-packages/keras/backend/tensorflow_backend.py:148: The name tf.placeholder_with_default is deprecated. Please use tf.compat.v1.placeholder_with_default instead.\n",
            "\n",
            "WARNING:tensorflow:From /usr/local/lib/python3.6/dist-packages/keras/backend/tensorflow_backend.py:3733: calling dropout (from tensorflow.python.ops.nn_ops) with keep_prob is deprecated and will be removed in a future version.\n",
            "Instructions for updating:\n",
            "Please use `rate` instead of `keep_prob`. Rate should be set to `rate = 1 - keep_prob`.\n",
            "WARNING:tensorflow:From /usr/local/lib/python3.6/dist-packages/keras/optimizers.py:793: The name tf.train.Optimizer is deprecated. Please use tf.compat.v1.train.Optimizer instead.\n",
            "\n",
            "WARNING:tensorflow:From /usr/local/lib/python3.6/dist-packages/keras/backend/tensorflow_backend.py:3576: The name tf.log is deprecated. Please use tf.math.log instead.\n",
            "\n"
          ],
          "name": "stdout"
        }
      ]
    },
    {
      "cell_type": "code",
      "metadata": {
        "id": "2ROsd1GAw082",
        "colab_type": "code",
        "outputId": "db52ca64-9d06-407f-8c2e-8c0ffb26cbb0",
        "colab": {
          "base_uri": "https://localhost:8080/",
          "height": 1000
        }
      },
      "source": [
        "model.fit(x_train,y_train,batch_size=100,verbose=1,epochs=30)"
      ],
      "execution_count": 0,
      "outputs": [
        {
          "output_type": "stream",
          "text": [
            "Epoch 1/30\n",
            "50000/50000 [==============================] - 151s 3ms/step - loss: 0.1321 - acc: 0.9558\n",
            "Epoch 2/30\n",
            "50000/50000 [==============================] - 150s 3ms/step - loss: 0.1310 - acc: 0.9554\n",
            "Epoch 3/30\n",
            "50000/50000 [==============================] - 149s 3ms/step - loss: 0.1224 - acc: 0.9594\n",
            "Epoch 4/30\n",
            "50000/50000 [==============================] - 149s 3ms/step - loss: 0.1241 - acc: 0.9589\n",
            "Epoch 5/30\n",
            "50000/50000 [==============================] - 149s 3ms/step - loss: 0.1305 - acc: 0.9580\n",
            "Epoch 6/30\n",
            "50000/50000 [==============================] - 149s 3ms/step - loss: 0.1208 - acc: 0.9596\n",
            "Epoch 7/30\n",
            "50000/50000 [==============================] - 149s 3ms/step - loss: 0.1128 - acc: 0.9630\n",
            "Epoch 8/30\n",
            "50000/50000 [==============================] - 148s 3ms/step - loss: 0.1121 - acc: 0.9623\n",
            "Epoch 9/30\n",
            "50000/50000 [==============================] - 147s 3ms/step - loss: 0.1145 - acc: 0.9635\n",
            "Epoch 10/30\n",
            "50000/50000 [==============================] - 148s 3ms/step - loss: 0.1091 - acc: 0.9637\n",
            "Epoch 11/30\n",
            "50000/50000 [==============================] - 148s 3ms/step - loss: 0.1060 - acc: 0.9656\n",
            "Epoch 12/30\n",
            "50000/50000 [==============================] - 146s 3ms/step - loss: 0.1039 - acc: 0.9665\n",
            "Epoch 13/30\n",
            "50000/50000 [==============================] - 146s 3ms/step - loss: 0.1012 - acc: 0.9669\n",
            "Epoch 14/30\n",
            "50000/50000 [==============================] - 145s 3ms/step - loss: 0.0981 - acc: 0.9681\n",
            "Epoch 15/30\n",
            "50000/50000 [==============================] - 149s 3ms/step - loss: 0.1017 - acc: 0.9673\n",
            "Epoch 16/30\n",
            "50000/50000 [==============================] - 149s 3ms/step - loss: 0.0907 - acc: 0.9705\n",
            "Epoch 17/30\n",
            "50000/50000 [==============================] - 149s 3ms/step - loss: 0.1031 - acc: 0.9671\n",
            "Epoch 18/30\n",
            "50000/50000 [==============================] - 149s 3ms/step - loss: 0.0931 - acc: 0.9698\n",
            "Epoch 19/30\n",
            "50000/50000 [==============================] - 149s 3ms/step - loss: 0.1020 - acc: 0.9671\n",
            "Epoch 20/30\n",
            "50000/50000 [==============================] - 149s 3ms/step - loss: 0.0952 - acc: 0.9690\n",
            "Epoch 21/30\n",
            "50000/50000 [==============================] - 149s 3ms/step - loss: 0.0932 - acc: 0.9702\n",
            "Epoch 22/30\n",
            "50000/50000 [==============================] - 147s 3ms/step - loss: 0.0863 - acc: 0.9722\n",
            "Epoch 23/30\n",
            "50000/50000 [==============================] - 146s 3ms/step - loss: 0.0911 - acc: 0.9712\n",
            "Epoch 24/30\n",
            "50000/50000 [==============================] - 145s 3ms/step - loss: 0.0887 - acc: 0.9716\n",
            "Epoch 25/30\n",
            "50000/50000 [==============================] - 145s 3ms/step - loss: 0.0930 - acc: 0.9711\n",
            "Epoch 26/30\n",
            "50000/50000 [==============================] - 146s 3ms/step - loss: 0.0880 - acc: 0.9723\n",
            "Epoch 27/30\n",
            "50000/50000 [==============================] - 147s 3ms/step - loss: 0.0838 - acc: 0.9737\n",
            "Epoch 28/30\n",
            "50000/50000 [==============================] - 148s 3ms/step - loss: 0.0926 - acc: 0.9710\n",
            "Epoch 29/30\n",
            "50000/50000 [==============================] - 147s 3ms/step - loss: 0.0845 - acc: 0.9735\n",
            "Epoch 30/30\n",
            "50000/50000 [==============================] - 147s 3ms/step - loss: 0.0804 - acc: 0.9750\n"
          ],
          "name": "stdout"
        },
        {
          "output_type": "execute_result",
          "data": {
            "text/plain": [
              "<keras.callbacks.History at 0x7f4dbd06d978>"
            ]
          },
          "metadata": {
            "tags": []
          },
          "execution_count": 24
        }
      ]
    },
    {
      "cell_type": "code",
      "metadata": {
        "id": "9MXKh_2dgu34",
        "colab_type": "code",
        "colab": {}
      },
      "source": [
        "test_result=model.evaluate(x_test,y_test,verbose=0)"
      ],
      "execution_count": 0,
      "outputs": []
    },
    {
      "cell_type": "code",
      "metadata": {
        "id": "-6R2EhZ_Ha8N",
        "colab_type": "code",
        "outputId": "4d260a96-8836-4229-92bd-d1152b7548ca",
        "colab": {
          "base_uri": "https://localhost:8080/",
          "height": 34
        }
      },
      "source": [
        "test_result"
      ],
      "execution_count": 0,
      "outputs": [
        {
          "output_type": "execute_result",
          "data": {
            "text/plain": [
              "[1.8016722164154053, 0.7133]"
            ]
          },
          "metadata": {
            "tags": []
          },
          "execution_count": 27
        }
      ]
    },
    {
      "cell_type": "code",
      "metadata": {
        "id": "nZd02nAkHhXm",
        "colab_type": "code",
        "colab": {}
      },
      "source": [
        "model.save_weights('my_model_weights.h5')"
      ],
      "execution_count": 0,
      "outputs": []
    },
    {
      "cell_type": "code",
      "metadata": {
        "id": "326aSb6YyRRw",
        "colab_type": "code",
        "colab": {}
      },
      "source": [
        "weight=model.load_weights('my_model_weights.h5')"
      ],
      "execution_count": 0,
      "outputs": []
    },
    {
      "cell_type": "code",
      "metadata": {
        "id": "fbgqs1ViyY5-",
        "colab_type": "code",
        "colab": {}
      },
      "source": [
        ""
      ],
      "execution_count": 0,
      "outputs": []
    },
    {
      "cell_type": "code",
      "metadata": {
        "id": "x2mSon2tyZ-V",
        "colab_type": "code",
        "colab": {}
      },
      "source": [
        ""
      ],
      "execution_count": 0,
      "outputs": []
    }
  ]
}